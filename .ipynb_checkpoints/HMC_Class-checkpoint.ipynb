{
 "cells": [
  {
   "cell_type": "code",
   "execution_count": 1,
   "id": "a51618c0",
   "metadata": {},
   "outputs": [],
   "source": [
    "import numpy as np"
   ]
  },
  {
   "cell_type": "code",
   "execution_count": 11,
   "id": "157c6021",
   "metadata": {},
   "outputs": [],
   "source": [
    "#building HMC object\n",
    "class Hamiltonian_Monte_Carlo():\n",
    "    def __init__(self, init):\n",
    "        #initialise empty list to store values of x\n",
    "        self.chain=[]\n",
    "        #integers for tracking acceptance probability\n",
    "        self.accepted, self.rejected, self.total = 0, 0, 0\n",
    "        #initial values of position and momentum\n",
    "        self.x_old, self.x_new, self.v_old, self.v_new = init, 0, 0, 0\n",
    "\n",
    "    def leapfrog(self, epsilon, L, gradient):\n",
    "        #copies x_old to x_new so x_new can be propagated through leapfrog\n",
    "        self.x_new = self.x_old.copy()\n",
    "        #draw from normal distribution for momentum value\n",
    "        self.v_old = np.random.normal(size=self.x_new.shape)\n",
    "        self.v_new = np.subtract(self.v_old, 0.5 * epsilon * gradient(self.x_new))\n",
    "        \n",
    "        for _ in range(L - 1):\n",
    "            self.x_new = np.add(self.x_new, epsilon * self.v_new)\n",
    "            self.v_new = np.subtract(self.v_new, epsilon * gradient(self.x_new))\n",
    "            \n",
    "        self.x_new = np.add(self.x_new, epsilon * self.v_new)\n",
    "        self.v_new = np.subtract(self.v_new, 0.5 * epsilon * gradient(self.x_new))\n",
    "        \n",
    "    def acceptance(self, log_prob):\n",
    "        self.total += 1\n",
    "        #hamiltonian prior to leapfrog\n",
    "        H_old = self.H(self.x_old, self.v_old, log_prob)\n",
    "        #hamiltonian post leapfrog\n",
    "        H_new = self.H(self.x_new, self.v_new, log_prob)\n",
    "        Metropolis_Hastings = -(H_new-H_old)        \n",
    "        \n",
    "        if np.log(np.random.random()) < min(0, Metropolis_Hastings):\n",
    "            self.accepted += 1\n",
    "            self.x_old = self.x_new\n",
    "        else:\n",
    "            self.rejected += 1\n",
    "            \n",
    "        #appending x to MC\n",
    "        self.chain.append(self.x_old)\n",
    "        \n",
    "    #cop out to work out Metropolis-Hastings acceptance value\n",
    "    def H(self, x, v, log_prob):\n",
    "        E = -log_prob(x)\n",
    "        K = 0.5 * np.sum(v ** 2)\n",
    "        return(K+E)"
   ]
  },
  {
   "cell_type": "code",
   "execution_count": 12,
   "id": "7b57053e",
   "metadata": {},
   "outputs": [],
   "source": [
    "def build_HMC_chain(HMC, epsilon, L, n_iter, log_prob, log_prob_gradient):\n",
    "    def gradient(x): return -log_prob_gradient(x)\n",
    "    \n",
    "    for _ in range (n_iter):\n",
    "        HMC.leapfrog(epsilon, L, gradient)\n",
    "        HMC.acceptance(log_prob)"
   ]
  },
  {
   "cell_type": "code",
   "execution_count": 13,
   "id": "96c85983",
   "metadata": {},
   "outputs": [],
   "source": [
    "HMC = Hamiltonian_Monte_Carlo(np.array([[5],\n",
    "                                       [1]]))"
   ]
  },
  {
   "cell_type": "code",
   "execution_count": 14,
   "id": "28231449",
   "metadata": {},
   "outputs": [],
   "source": [
    "def log_prob_gradient(x): \n",
    "    return  -x"
   ]
  },
  {
   "cell_type": "code",
   "execution_count": 15,
   "id": "f3e131a0",
   "metadata": {},
   "outputs": [],
   "source": [
    "def log_prob(x):\n",
    "    return -0.5 * np.sum(x ** 2)"
   ]
  },
  {
   "cell_type": "code",
   "execution_count": 16,
   "id": "ea85d6fc",
   "metadata": {},
   "outputs": [],
   "source": [
    "build_HMC_chain(HMC, epsilon=1.5, L=10, n_iter=100, log_prob=log_prob, log_prob_gradient=log_prob_gradient)"
   ]
  },
  {
   "cell_type": "code",
   "execution_count": 17,
   "id": "27b59943",
   "metadata": {},
   "outputs": [
    {
     "data": {
      "text/plain": [
       "100"
      ]
     },
     "execution_count": 17,
     "metadata": {},
     "output_type": "execute_result"
    }
   ],
   "source": [
    "HMC.total"
   ]
  },
  {
   "cell_type": "code",
   "execution_count": 18,
   "id": "457b367a",
   "metadata": {},
   "outputs": [
    {
     "data": {
      "text/plain": [
       "64"
      ]
     },
     "execution_count": 18,
     "metadata": {},
     "output_type": "execute_result"
    }
   ],
   "source": [
    "HMC.accepted"
   ]
  },
  {
   "cell_type": "code",
   "execution_count": 19,
   "id": "c7b59b60",
   "metadata": {},
   "outputs": [
    {
     "data": {
      "text/plain": [
       "36"
      ]
     },
     "execution_count": 19,
     "metadata": {},
     "output_type": "execute_result"
    }
   ],
   "source": [
    "HMC.rejected"
   ]
  },
  {
   "cell_type": "code",
   "execution_count": null,
   "id": "72b51483",
   "metadata": {},
   "outputs": [],
   "source": []
  }
 ],
 "metadata": {
  "kernelspec": {
   "display_name": "Python 3",
   "language": "python",
   "name": "python3"
  },
  "language_info": {
   "codemirror_mode": {
    "name": "ipython",
    "version": 3
   },
   "file_extension": ".py",
   "mimetype": "text/x-python",
   "name": "python",
   "nbconvert_exporter": "python",
   "pygments_lexer": "ipython3",
   "version": "3.8.8"
  }
 },
 "nbformat": 4,
 "nbformat_minor": 5
}
